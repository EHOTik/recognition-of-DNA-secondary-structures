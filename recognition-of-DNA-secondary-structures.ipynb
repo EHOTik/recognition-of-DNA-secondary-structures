{
 "cells": [
  {
   "cell_type": "code",
   "execution_count": 51,
   "metadata": {},
   "outputs": [
    {
     "name": "stdout",
     "output_type": "stream",
     "text": [
      "Collecting biopython==1.77\n",
      "  Downloading biopython-1.77-cp37-cp37m-manylinux1_x86_64.whl (2.3 MB)\n",
      "\u001b[K     |████████████████████████████████| 2.3 MB 1.2 MB/s eta 0:00:01\n",
      "\u001b[?25hRequirement already satisfied: numpy in /home/seasun/anaconda3/lib/python3.7/site-packages (from biopython==1.77) (1.18.1)\n",
      "Installing collected packages: biopython\n",
      "  Attempting uninstall: biopython\n",
      "    Found existing installation: biopython 1.78\n",
      "    Uninstalling biopython-1.78:\n",
      "      Successfully uninstalled biopython-1.78\n",
      "Successfully installed biopython-1.77\n"
     ]
    }
   ],
   "source": [
    "!pip install biopython==1.77"
   ]
  },
  {
   "cell_type": "code",
   "execution_count": 1,
   "metadata": {},
   "outputs": [],
   "source": [
    "from Bio import SeqIO\n",
    "from Bio.Seq import Seq\n",
    "from Bio.SeqRecord import SeqRecord\n",
    "from collections import defaultdict"
   ]
  },
  {
   "cell_type": "code",
   "execution_count": 2,
   "metadata": {},
   "outputs": [],
   "source": [
    "# read names and postions from narrowPeak file\n",
    "positions = defaultdict(list)\n",
    "with open('curax(14h)-Z22-vs-IgG-[FLAG-ZBP1-PLUS].narrowPeak') as f:\n",
    "    for line in f:\n",
    "        chrom, start, stop, name, score, strand, signalValue, pValue, qValue, peak = line.split()\n",
    "        positions[chrom].append((int(start), int(stop), int(score), float(signalValue), float(pValue), float(qValue), int(peak), '14h'))\n",
    "with open('curax(10h-14h)-Z22-vs-IgG-[FLAG-ZBP1-MINUS].narrowPeak') as f:\n",
    "    for line in f:\n",
    "        chrom, start, stop, name, score, strand, signalValue, pValue, qValue, peak = line.split()\n",
    "        positions[chrom].append((int(start), int(stop), int(score), float(signalValue), float(pValue), float(qValue), int(peak), '10h-14h'))        "
   ]
  },
  {
   "cell_type": "code",
   "execution_count": 3,
   "metadata": {},
   "outputs": [
    {
     "name": "stdout",
     "output_type": "stream",
     "text": [
      "chr1\n",
      "chr10\n",
      "chr11\n",
      "chr12\n",
      "chr13\n",
      "chr14\n",
      "chr15\n",
      "chr16\n",
      "chr17\n",
      "chr18\n",
      "chr19\n",
      "chr1_GL456211_random\n",
      "chr1_GL456221_random\n",
      "chr2\n",
      "chr3\n",
      "chr4\n",
      "chr5\n",
      "chr5_GL456354_random\n",
      "chr6\n",
      "chr7\n",
      "chr8\n",
      "chr9\n",
      "chrM\n",
      "chrUn_GL456370\n",
      "chrUn_GL456383\n",
      "chrUn_GL456390\n",
      "chrUn_GL456392\n",
      "chrUn_GL456393\n",
      "chrUn_GL456396\n",
      "chrUn_JH584304\n",
      "chrX\n",
      "chrY\n",
      "chr4_GL456216_random\n",
      "chr4_JH584293_random\n",
      "chr4_JH584294_random\n",
      "chrUn_GL456378\n",
      "chrUn_GL456389\n"
     ]
    }
   ],
   "source": [
    "# search for short sequences\n",
    "short_seq_records = []\n",
    "f = open('train_data.csv', 'w') \n",
    "for chrom in positions:\n",
    "    print(chrom)\n",
    "    long_seq_record = SeqIO.to_dict(SeqIO.parse(open(chrom + '.fa'), 'fasta'))[chrom]\n",
    "#     print(long_seq_record)\n",
    "    for (start, stop, score, signalValue, pValue, qValue, peak, file) in positions[chrom]:\n",
    "        long_seq = long_seq_record.seq\n",
    "        alphabet = long_seq.alphabet\n",
    "        short_seq = str(long_seq)[start-1:stop]\n",
    "        short_seq_record = SeqRecord(Seq(short_seq, alphabet), id=chrom, description='')\n",
    "        short_seq_records.append(short_seq_record)\n",
    "#         print(short_seq)\n",
    "        with open('train_data.csv', 'a') as f:\n",
    "            f.write(','.join([chrom, str(score), str(signalValue), str(pValue), str(qValue), str(peak), file, short_seq]))\n",
    "            f.write('\\n')\n"
   ]
  },
  {
   "cell_type": "code",
   "execution_count": 4,
   "metadata": {},
   "outputs": [
    {
     "data": {
      "text/html": [
       "<div>\n",
       "<style scoped>\n",
       "    .dataframe tbody tr th:only-of-type {\n",
       "        vertical-align: middle;\n",
       "    }\n",
       "\n",
       "    .dataframe tbody tr th {\n",
       "        vertical-align: top;\n",
       "    }\n",
       "\n",
       "    .dataframe thead th {\n",
       "        text-align: right;\n",
       "    }\n",
       "</style>\n",
       "<table border=\"1\" class=\"dataframe\">\n",
       "  <thead>\n",
       "    <tr style=\"text-align: right;\">\n",
       "      <th></th>\n",
       "      <th>chrom</th>\n",
       "      <th>score</th>\n",
       "      <th>signalValue</th>\n",
       "      <th>pValue</th>\n",
       "      <th>qValue</th>\n",
       "      <th>peak</th>\n",
       "      <th>file</th>\n",
       "      <th>short_seq</th>\n",
       "    </tr>\n",
       "  </thead>\n",
       "  <tbody>\n",
       "    <tr>\n",
       "      <th>0</th>\n",
       "      <td>chr1</td>\n",
       "      <td>84</td>\n",
       "      <td>4.19611</td>\n",
       "      <td>12.50863</td>\n",
       "      <td>8.41826</td>\n",
       "      <td>176</td>\n",
       "      <td>14h</td>\n",
       "      <td>cctgccgaacttaggaaattagtctgaacaggtgagagggtgcgcc...</td>\n",
       "    </tr>\n",
       "    <tr>\n",
       "      <th>1</th>\n",
       "      <td>chr1</td>\n",
       "      <td>29</td>\n",
       "      <td>4.12410</td>\n",
       "      <td>6.59635</td>\n",
       "      <td>2.90590</td>\n",
       "      <td>139</td>\n",
       "      <td>14h</td>\n",
       "      <td>CTCTGGCCGGTGTTTGCCATGCTCAGGCCGGTGTTTGCCATGCTCA...</td>\n",
       "    </tr>\n",
       "    <tr>\n",
       "      <th>2</th>\n",
       "      <td>chr1</td>\n",
       "      <td>107</td>\n",
       "      <td>2.47923</td>\n",
       "      <td>14.95097</td>\n",
       "      <td>10.76389</td>\n",
       "      <td>494</td>\n",
       "      <td>14h</td>\n",
       "      <td>gcaaatctccaccaaattggattcacctgtatcctggtacacctgc...</td>\n",
       "    </tr>\n",
       "    <tr>\n",
       "      <th>3</th>\n",
       "      <td>chr1</td>\n",
       "      <td>86</td>\n",
       "      <td>5.25893</td>\n",
       "      <td>12.75605</td>\n",
       "      <td>8.65332</td>\n",
       "      <td>231</td>\n",
       "      <td>14h</td>\n",
       "      <td>agaacacaaatgccagcccaggctactatacccggccaaactctca...</td>\n",
       "    </tr>\n",
       "    <tr>\n",
       "      <th>4</th>\n",
       "      <td>chr1</td>\n",
       "      <td>82</td>\n",
       "      <td>4.93616</td>\n",
       "      <td>12.34533</td>\n",
       "      <td>8.26059</td>\n",
       "      <td>224</td>\n",
       "      <td>14h</td>\n",
       "      <td>acggtcacccgtgcagcctgccctccgcggagtcccggagccaaga...</td>\n",
       "    </tr>\n",
       "  </tbody>\n",
       "</table>\n",
       "</div>"
      ],
      "text/plain": [
       "  chrom  score  signalValue    pValue    qValue  peak file  \\\n",
       "0  chr1     84      4.19611  12.50863   8.41826   176  14h   \n",
       "1  chr1     29      4.12410   6.59635   2.90590   139  14h   \n",
       "2  chr1    107      2.47923  14.95097  10.76389   494  14h   \n",
       "3  chr1     86      5.25893  12.75605   8.65332   231  14h   \n",
       "4  chr1     82      4.93616  12.34533   8.26059   224  14h   \n",
       "\n",
       "                                           short_seq  \n",
       "0  cctgccgaacttaggaaattagtctgaacaggtgagagggtgcgcc...  \n",
       "1  CTCTGGCCGGTGTTTGCCATGCTCAGGCCGGTGTTTGCCATGCTCA...  \n",
       "2  gcaaatctccaccaaattggattcacctgtatcctggtacacctgc...  \n",
       "3  agaacacaaatgccagcccaggctactatacccggccaaactctca...  \n",
       "4  acggtcacccgtgcagcctgccctccgcggagtcccggagccaaga...  "
      ]
     },
     "execution_count": 4,
     "metadata": {},
     "output_type": "execute_result"
    }
   ],
   "source": [
    "import pandas as pd\n",
    "file3 = open(\"train_data.csv\")\n",
    "df = pd.read_csv('train_data.csv', delimiter=',',\n",
    "                names=['chrom', 'score', 'signalValue', 'pValue', 'qValue', 'peak', 'file', 'short_seq'])\n",
    "df.head()\n",
    "# print(file3.read())"
   ]
  },
  {
   "cell_type": "code",
   "execution_count": 6,
   "metadata": {},
   "outputs": [
    {
     "name": "stdout",
     "output_type": "stream",
     "text": [
      "320\n",
      "591\n",
      "343\n",
      "424\n",
      "538\n",
      "285\n",
      "610\n",
      "405\n",
      "412\n",
      "561\n"
     ]
    }
   ],
   "source": [
    "#generating lengths for negative class  \n",
    "import numpy as np\n",
    "from sklearn.neighbors import KernelDensity\n",
    "X = []\n",
    "for chrom in positions:\n",
    "    for (start, stop, score, signalValue, pValue, qValue, peak, file) in positions[chrom]:\n",
    "        X.append(stop - start)\n",
    "\n",
    "Y = np.array(X).reshape(-1, 1)\n",
    "kde = KernelDensity(kernel='gaussian', bandwidth=0.5).fit(Y)\n",
    "result = kde.sample(n_samples=10)\n",
    "for i in result:\n",
    "    print(int(i[0]))"
   ]
  },
  {
   "cell_type": "code",
   "execution_count": 10,
   "metadata": {},
   "outputs": [
    {
     "name": "stdout",
     "output_type": "stream",
     "text": [
      "195471971\n",
      "130694993\n",
      "122082543\n",
      "120129022\n",
      "120421639\n",
      "124902244\n",
      "104043685\n",
      "98207768\n",
      "94987271\n",
      "90702639\n",
      "61431566\n",
      "241735\n",
      "206961\n",
      "182113224\n",
      "160039680\n",
      "156508116\n",
      "151834684\n",
      "195993\n",
      "149736546\n",
      "145441459\n",
      "129401213\n",
      "124595110\n",
      "16299\n",
      "26764\n",
      "38659\n",
      "24668\n",
      "23629\n",
      "55711\n",
      "21240\n",
      "114452\n",
      "171031299\n",
      "91744698\n",
      "66673\n",
      "207968\n",
      "191905\n",
      "31602\n",
      "28772\n"
     ]
    }
   ],
   "source": [
    "for chrom in positions:\n",
    "    long_seq_record = SeqIO.to_dict(SeqIO.parse(open(chrom + '.fa'), 'fasta'))[chrom]\n",
    "    print(len(long_seq_record.seq))"
   ]
  },
  {
   "cell_type": "code",
   "execution_count": null,
   "metadata": {},
   "outputs": [],
   "source": []
  }
 ],
 "metadata": {
  "kernelspec": {
   "display_name": "Python 3",
   "language": "python",
   "name": "python3"
  },
  "language_info": {
   "codemirror_mode": {
    "name": "ipython",
    "version": 3
   },
   "file_extension": ".py",
   "mimetype": "text/x-python",
   "name": "python",
   "nbconvert_exporter": "python",
   "pygments_lexer": "ipython3",
   "version": "3.7.4"
  }
 },
 "nbformat": 4,
 "nbformat_minor": 4
}
